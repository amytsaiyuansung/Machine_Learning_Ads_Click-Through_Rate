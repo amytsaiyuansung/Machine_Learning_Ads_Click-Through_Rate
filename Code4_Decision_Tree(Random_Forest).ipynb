{
 "cells": [
  {
   "cell_type": "code",
   "execution_count": 1,
   "metadata": {},
   "outputs": [],
   "source": [
    "import warnings\n",
    "warnings.filterwarnings(\"ignore\")\n",
    "\n",
    "import pandas as pd\n",
    "\n",
    "# plot\n",
    "%matplotlib inline\n",
    "import matplotlib\n",
    "import matplotlib.pyplot as plt\n",
    "\n",
    "import random\n",
    "import numpy as np\n",
    "\n",
    "import math"
   ]
  },
  {
   "cell_type": "code",
   "execution_count": 2,
   "metadata": {},
   "outputs": [],
   "source": [
    "# def functions\n",
    "def plot_confusion_matrix(cm, classes,\n",
    "                          normalize=False,\n",
    "                          title='Confusion matrix',\n",
    "                          cmap=plt.cm.Blues):\n",
    "    \"\"\"\n",
    "    This function prints and plots the confusion matrix.\n",
    "    Normalization can be applied by setting `normalize=True`.\n",
    "    \"\"\"\n",
    "    if normalize:\n",
    "        cm = cm.astype('float') / cm.sum(axis=1)[:, np.newaxis]\n",
    "        print(\"Normalized confusion matrix\")\n",
    "    else:\n",
    "        print('Confusion matrix, without normalization')\n",
    "\n",
    "    print(cm)\n",
    "\n",
    "    plt.imshow(cm, interpolation='nearest', cmap=cmap)\n",
    "    plt.title(title)\n",
    "    plt.colorbar()\n",
    "    tick_marks = np.arange(len(classes))\n",
    "    plt.xticks(tick_marks, classes, rotation=45)\n",
    "    plt.yticks(tick_marks, classes)\n",
    "\n",
    "    fmt = '.2f' if normalize else 'd'\n",
    "    thresh = cm.max() / 2.\n",
    "    for i, j in itertools.product(range(cm.shape[0]), range(cm.shape[1])):\n",
    "        plt.text(j, i, format(cm[i, j], fmt),\n",
    "                 horizontalalignment=\"center\",\n",
    "                 color=\"white\" if cm[i, j] > thresh else \"black\")\n",
    "\n",
    "    plt.tight_layout()\n",
    "    plt.ylabel('True label')\n",
    "    plt.xlabel('Predicted label')"
   ]
  },
  {
   "cell_type": "code",
   "execution_count": 339,
   "metadata": {},
   "outputs": [],
   "source": [
    "# # read data\n",
    "# train = pd.read_csv(\"ProjectTrainingData.csv\")\n",
    "# test = pd.read_csv(\"ProjectTestData.csv\")\n",
    "\n",
    "# train.columns\n",
    "\n",
    "# print(min(test.hour))\n",
    "# print(max(test.hour))\n",
    "\n",
    "# print(train.shape)\n",
    "# print(test.shape)"
   ]
  },
  {
   "cell_type": "code",
   "execution_count": 3,
   "metadata": {},
   "outputs": [],
   "source": [
    "sample = pd.read_csv('sample.csv')"
   ]
  },
  {
   "cell_type": "markdown",
   "metadata": {},
   "source": [
    "# 1 1000000 Sample"
   ]
  },
  {
   "cell_type": "code",
   "execution_count": 6,
   "metadata": {},
   "outputs": [
    {
     "name": "stdout",
     "output_type": "stream",
     "text": [
      "0    829194\n",
      "1    170806\n",
      "Name: click, dtype: int64\n",
      "0.170806\n",
      "Index(['id', 'click', 'hour', 'C1', 'banner_pos', 'site_id', 'site_domain',\n",
      "       'site_category', 'app_id', 'app_domain', 'app_category', 'device_id',\n",
      "       'device_ip', 'device_model', 'device_type', 'device_conn_type', 'C14',\n",
      "       'C15', 'C16', 'C17', 'C18', 'C19', 'C20', 'C21', 'date'],\n",
      "      dtype='object')\n",
      "click 2\n",
      "hour 24\n",
      "C1 7\n",
      "banner_pos 7\n",
      "site_id 2647\n",
      "site_domain 2888\n",
      "site_category 23\n",
      "app_id 3184\n",
      "app_domain 194\n",
      "app_category 26\n",
      "device_id 151890\n",
      "device_ip 546929\n",
      "device_model 5156\n",
      "device_type 4\n",
      "device_conn_type 4\n",
      "C14 2114\n",
      "C15 8\n",
      "C16 9\n",
      "C17 396\n",
      "C18 4\n",
      "C19 65\n",
      "C20 162\n",
      "C21 55\n",
      "date 9\n",
      "Index(['device_id', 'device_ip'], dtype='object')\n"
     ]
    }
   ],
   "source": [
    "# take 1000000 samples\n",
    "# sample = train.sample(1000000, random_state = 613)\n",
    "\n",
    "print(sample.click.value_counts())\n",
    "print(len(sample[sample.click == 1])/len(sample)) # 17%\n",
    "\n",
    "# get date of sample\n",
    "sample['date'] = round((sample.hour - 14100000)/100).astype('int')\n",
    "\n",
    "# get hour of sample\n",
    "sample.hour = sample.hour - 14100000 - sample.date * 100\n",
    "\n",
    "print(sample.columns) # can treat hour and date as continuous variables, but now let's just make it categorical\n",
    "\n",
    "for i in range(2, 25):\n",
    "        sample.iloc[:, i] = sample.iloc[:, i].astype('category') # change to categorical variables\n",
    "sample = sample.iloc[:, 1:] # delete id\n",
    "\n",
    "for cat_var in sample.columns:\n",
    "    print(cat_var, sample[cat_var].nunique())\n",
    "\n",
    "print(sample.columns[[10, 11]])\n",
    "\n",
    "sample.drop(['device_id', 'device_ip'], axis = 1, inplace = True) # so many categories, drop these two variables for now"
   ]
  },
  {
   "cell_type": "code",
   "execution_count": 252,
   "metadata": {},
   "outputs": [],
   "source": [
    "# not sure need to be the same or not?\n",
    "# for i in range(0,23):\n",
    "#     X_test = X_test[X_test[X_test.columns[i]].isin(X_train.iloc[:,i])]\n",
    "\n",
    "# len(X_test)\n",
    "# y_test = y_test[X_test.index]"
   ]
  },
  {
   "cell_type": "code",
   "execution_count": 7,
   "metadata": {},
   "outputs": [],
   "source": [
    "from sklearn.model_selection import train_test_split\n",
    "\n",
    "# Split validation\n",
    "X_train, X_test, y_train, y_test = train_test_split(\n",
    "    sample.iloc[:, 1:], sample['click'], test_size = 0.4, random_state = 613, stratify = sample['click'])"
   ]
  },
  {
   "cell_type": "code",
   "execution_count": 8,
   "metadata": {},
   "outputs": [],
   "source": [
    "from sklearn import preprocessing\n",
    "X_train_ordinal = X_train.values\n",
    "X_test_ordinal = X_test.values\n",
    "les = []\n",
    "\n",
    "for i in range(X_train_ordinal.shape[1]):\n",
    "    le = preprocessing.LabelEncoder()\n",
    "    le.fit(sample.iloc[:,1:].iloc[:, i])\n",
    "    les.append(le)\n",
    "    X_train_ordinal[:, i] = le.transform(X_train_ordinal[:, i])\n",
    "    X_test_ordinal[:, i] = le.transform(X_test_ordinal[:, i])"
   ]
  },
  {
   "cell_type": "markdown",
   "metadata": {},
   "source": [
    "## 1.1 Tree"
   ]
  },
  {
   "cell_type": "markdown",
   "metadata": {},
   "source": [
    "### 1.1.1 No Tuning"
   ]
  },
  {
   "cell_type": "code",
   "execution_count": null,
   "metadata": {},
   "outputs": [],
   "source": [
    "# X_test and y_test are indeed validation data\n",
    "from sklearn import tree\n",
    "from sklearn.tree import DecisionTreeClassifier\n",
    "\n",
    "random.seed(613)\n",
    "clf = tree.DecisionTreeClassifier()\n",
    "clf = clf.fit(X_train_ordinal, y_train)\n",
    "\n",
    "# predict \n",
    "y_pred = clf.predict(X_test_ordinal)"
   ]
  },
  {
   "cell_type": "code",
   "execution_count": 379,
   "metadata": {},
   "outputs": [
    {
     "name": "stdout",
     "output_type": "stream",
     "text": [
      "Confusion matrix, without normalization\n",
      "[[286233  45445]\n",
      " [ 50058  18264]]\n",
      "Normalized confusion matrix\n",
      "[[0.86 0.14]\n",
      " [0.73 0.27]]\n"
     ]
    },
    {
     "data": {
      "image/png": "[encoded data removed]",
      "text/plain": [
       "<Figure size 432x288 with 2 Axes>"
      ]
     },
     "metadata": {
      "needs_background": "light"
     },
     "output_type": "display_data"
    },
    {
     "data": {
      "image/png": "[encoded data removed]",
      "text/plain": [
       "<Figure size 432x288 with 2 Axes>"
      ]
     },
     "metadata": {
      "needs_background": "light"
     },
     "output_type": "display_data"
    },
    {
     "name": "stdout",
     "output_type": "stream",
     "text": [
      "Accuracy (out-of-sample): 0.76\n",
      "F1 score (out-of-sample):  0.5668435505273667\n",
      "Kappa score (out-of-sample):  0.13389608103925177\n",
      "Classification report:                precision    recall  f1-score   support\n",
      "\n",
      "           0       0.85      0.86      0.86    331678\n",
      "           1       0.29      0.27      0.28     68322\n",
      "\n",
      "   micro avg       0.76      0.76      0.76    400000\n",
      "   macro avg       0.57      0.57      0.57    400000\n",
      "weighted avg       0.75      0.76      0.76    400000\n",
      "\n",
      "AUC:  0.5651534833037332\n",
      "Log loss:  7.606736770260194\n"
     ]
    }
   ],
   "source": [
    "import itertools\n",
    "import sklearn\n",
    "from sklearn.metrics import confusion_matrix\n",
    "from sklearn.metrics import accuracy_score, f1_score, cohen_kappa_score, classification_report\n",
    "from sklearn.metrics import log_loss\n",
    "    \n",
    "cnf_matrix = confusion_matrix(y_test, y_pred)\n",
    "np.set_printoptions(precision=2)\n",
    "\n",
    "# Plot non-normalized confusion matrix\n",
    "plt.figure()\n",
    "plot_confusion_matrix(cnf_matrix, classes=['0', '1'],\n",
    "                      title='Confusion matrix, without normalization')\n",
    "\n",
    "# Plot normalized confusion matrix\n",
    "plt.figure()\n",
    "plot_confusion_matrix(cnf_matrix, classes=['0', '1'], normalize=True,\n",
    "                      title='Normalized confusion matrix')\n",
    "\n",
    "plt.show()\n",
    "\n",
    "# Accuracy\n",
    "print('Accuracy (out-of-sample): %.2f' % accuracy_score(y_test, y_pred))\n",
    "\n",
    "# F1 score\n",
    "print('F1 score (out-of-sample): ', f1_score(y_test, y_pred, average='macro'))\n",
    "\n",
    "# Kappa score\n",
    "print('Kappa score (out-of-sample): ', cohen_kappa_score(y_test, y_pred))\n",
    "\n",
    "# Build a text report showing the main classification metrics (out-of-sample performance)\n",
    "print('Classification report: ',classification_report(y_test, y_pred, target_names=['0', '1']))\n",
    "\n",
    "from sklearn.metrics import roc_curve, auc\n",
    "false_positive_rate, true_positive_rate, thresholds = roc_curve(y_test, y_pred)\n",
    "roc_auc = auc(false_positive_rate, true_positive_rate)\n",
    "print('AUC: ', roc_auc)\n",
    "\n",
    "y_pred_prob = clf.predict_proba(X_test_ordinal)\n",
    "\n",
    "print('Log loss: ', log_loss(y_test, y_pred_prob))"
   ]
  },
  {
   "cell_type": "code",
   "execution_count": 381,
   "metadata": {},
   "outputs": [
    {
     "data": {
      "text/plain": [
       "0.4571626429746694"
      ]
     },
     "execution_count": 381,
     "metadata": {},
     "output_type": "execute_result"
    }
   ],
   "source": [
    "# naive score\n",
    "log_loss_naive = log_loss(y_test, np.repeat(0.17, len(y_test)))\n",
    "log_loss_naive # 0.4571626429765626"
   ]
  },
  {
   "cell_type": "code",
   "execution_count": 382,
   "metadata": {},
   "outputs": [
    {
     "data": {
      "text/plain": [
       "(array([336291.,      0.,      0.,      0.,      0.,      0.,      0.,\n",
       "             0.,      0.,  63709.]),\n",
       " array([0. , 0.1, 0.2, 0.3, 0.4, 0.5, 0.6, 0.7, 0.8, 0.9, 1. ]),\n",
       " <a list of 10 Patch objects>)"
      ]
     },
     "execution_count": 382,
     "metadata": {},
     "output_type": "execute_result"
    },
    {
     "data": {
      "image/png": "[encoded data removed]",
      "text/plain": [
       "<Figure size 432x288 with 1 Axes>"
      ]
     },
     "metadata": {
      "needs_background": "light"
     },
     "output_type": "display_data"
    }
   ],
   "source": [
    "plt.hist(y_pred)"
   ]
  },
  {
   "cell_type": "markdown",
   "metadata": {},
   "source": [
    "### 1.1.2 Tune Max_depth for Trees"
   ]
  },
  {
   "cell_type": "code",
   "execution_count": 384,
   "metadata": {},
   "outputs": [
    {
     "name": "stdout",
     "output_type": "stream",
     "text": [
      "8\n"
     ]
    }
   ],
   "source": [
    "# Tunning max_depth\n",
    "\n",
    "max_depths = range(5, 20, 1)\n",
    "test_results = []\n",
    "accuracy = []\n",
    "\n",
    "for max_depth in max_depths:\n",
    "    clf_max_depth = DecisionTreeClassifier(max_depth=max_depth)\n",
    "    clf_max_depth.fit(X_train_ordinal, y_train)\n",
    "    \n",
    "    max_depth_pred = clf_max_depth.predict_proba(X_test_ordinal)\n",
    "    y_pred = clf_max_depth.predict(X_test_ordinal)\n",
    "        \n",
    "    score_log_loss = log_loss(y_test, max_depth_pred)\n",
    "    accuracy.append(accuracy_score(y_test, y_pred))\n",
    "    test_results.append(score_log_loss)\n",
    "\n",
    "print(max_depths[test_results.index(min(test_results))])"
   ]
  },
  {
   "cell_type": "code",
   "execution_count": 311,
   "metadata": {},
   "outputs": [
    {
     "name": "stdout",
     "output_type": "stream",
     "text": [
      "-0.41092979394390444\n",
      "{'max_depth': 16, 'min_samples_leaf': 350}\n"
     ]
    }
   ],
   "source": [
    "# Tunning max_depth and min_samples_leaf\n",
    "\n",
    "from sklearn.model_selection import GridSearchCV #http://scikit-learn.org/stable/modules/generated/sklearn.model_selection.GridSearchCV.html\n",
    "\n",
    "np.random.seed(613)\n",
    "gs_dt = GridSearchCV(estimator=DecisionTreeClassifier(random_state=613),\n",
    "                  param_grid=[{'max_depth': range(10, 25, 3), \n",
    "                              'min_samples_leaf':range(250, 500, 50)\n",
    "                               # ,'min_samples_split':[2,3,4,5]\n",
    "                              }],\n",
    "                  scoring='neg_log_loss',\n",
    "                  cv=5,\n",
    "                  n_jobs=4)\n",
    "\n",
    "gs_dt = gs_dt.fit(X_train,y_train)\n",
    "print(gs_dt.best_score_)\n",
    "print(gs_dt.best_params_)"
   ]
  },
  {
   "cell_type": "code",
   "execution_count": 386,
   "metadata": {},
   "outputs": [],
   "source": [
    "clf_gs_1 = DecisionTreeClassifier(max_depth=16,\n",
    "                              criterion='gini',\n",
    "                              min_samples_leaf=350,\n",
    "                              # min_samples_split=2,\n",
    "                              random_state=613)\n",
    "\n",
    "clf_gs_1 = clf_gs_1.fit(X_train_ordinal, y_train)\n",
    "y_pred = clf_gs_1.predict(X_test_ordinal)\n",
    "y_pred_prob = clf_gs_1.predict_proba(X_test_ordinal)"
   ]
  },
  {
   "cell_type": "code",
   "execution_count": 390,
   "metadata": {},
   "outputs": [
    {
     "name": "stdout",
     "output_type": "stream",
     "text": [
      "Confusion matrix, without normalization\n",
      "[[328632   3046]\n",
      " [ 64123   4199]]\n",
      "Normalized confusion matrix\n",
      "[[0.99 0.01]\n",
      " [0.94 0.06]]\n"
     ]
    },
    {
     "data": {
      "image/png": "[encoded data removed]",
      "text/plain": [
       "<Figure size 432x288 with 2 Axes>"
      ]
     },
     "metadata": {
      "needs_background": "light"
     },
     "output_type": "display_data"
    },
    {
     "data": {
      "image/png": "[encoded data removed]",
      "text/plain": [
       "<Figure size 432x288 with 2 Axes>"
      ]
     },
     "metadata": {
      "needs_background": "light"
     },
     "output_type": "display_data"
    },
    {
     "name": "stdout",
     "output_type": "stream",
     "text": [
      "Accuracy (out-of-sample): 0.83\n",
      "F1 score (out-of-sample):  0.5092068785347347\n",
      "Kappa score (out-of-sample):  0.08103530713614115\n",
      "Classification report:                precision    recall  f1-score   support\n",
      "\n",
      "           0       0.84      0.99      0.91    331678\n",
      "           1       0.58      0.06      0.11     68322\n",
      "\n",
      "   micro avg       0.83      0.83      0.83    400000\n",
      "   macro avg       0.71      0.53      0.51    400000\n",
      "weighted avg       0.79      0.83      0.77    400000\n",
      "\n",
      "AUC:  0.5261376839485526\n",
      "Log loss:  0.4103608666309763\n"
     ]
    }
   ],
   "source": [
    "import itertools\n",
    "import sklearn\n",
    "from sklearn.metrics import confusion_matrix\n",
    "from sklearn.metrics import accuracy_score, f1_score, cohen_kappa_score, classification_report\n",
    "from sklearn.metrics import log_loss\n",
    "    \n",
    "cnf_matrix = confusion_matrix(y_test, y_pred)\n",
    "np.set_printoptions(precision=2)\n",
    "\n",
    "# Plot non-normalized confusion matrix\n",
    "plt.figure()\n",
    "plot_confusion_matrix(cnf_matrix, classes=['0', '1'],\n",
    "                      title='Confusion matrix, without normalization')\n",
    "\n",
    "# Plot normalized confusion matrix\n",
    "plt.figure()\n",
    "plot_confusion_matrix(cnf_matrix, classes=['0', '1'], normalize=True,\n",
    "                      title='Normalized confusion matrix')\n",
    "\n",
    "plt.show()\n",
    "\n",
    "# Accuracy\n",
    "print('Accuracy (out-of-sample): %.2f' % accuracy_score(y_test, y_pred))\n",
    "\n",
    "# F1 score\n",
    "print('F1 score (out-of-sample): ', f1_score(y_test, y_pred, average='macro'))\n",
    "\n",
    "# Kappa score\n",
    "print('Kappa score (out-of-sample): ', cohen_kappa_score(y_test, y_pred))\n",
    "\n",
    "# Build a text report showing the main classification metrics (out-of-sample performance)\n",
    "print('Classification report: ',classification_report(y_test, y_pred, target_names=['0', '1']))\n",
    "\n",
    "from sklearn.metrics import roc_curve, auc\n",
    "false_positive_rate, true_positive_rate, thresholds = roc_curve(y_test, y_pred)\n",
    "roc_auc = auc(false_positive_rate, true_positive_rate)\n",
    "print('AUC: ', roc_auc)\n",
    "\n",
    "print('Log loss: ', log_loss(y_test, y_pred_prob))"
   ]
  },
  {
   "cell_type": "markdown",
   "metadata": {},
   "source": [
    "## 1.2 Random Forest"
   ]
  },
  {
   "cell_type": "code",
   "execution_count": 13,
   "metadata": {},
   "outputs": [
    {
     "name": "stdout",
     "output_type": "stream",
     "text": [
      "20\n"
     ]
    }
   ],
   "source": [
    "# Tuning max_depth\n",
    "\n",
    "from sklearn.ensemble import RandomForestClassifier\n",
    "from sklearn.metrics import log_loss\n",
    "from sklearn.metrics import accuracy_score, f1_score, cohen_kappa_score, classification_report\n",
    "\n",
    "max_depths = range(20, 100, 20)\n",
    "test_results = []\n",
    "accuracy = []\n",
    "\n",
    "for max_depth in max_depths:\n",
    "    clf_max_depth = RandomForestClassifier(n_estimators = 25, max_depth = max_depth, max_features = 0.3)\n",
    "    clf_max_depth.fit(X_train_ordinal, y_train)\n",
    "    \n",
    "    max_depth_pred = clf_max_depth.predict_proba(X_test_ordinal)\n",
    "    y_pred = clf_max_depth.predict(X_test_ordinal)\n",
    "\n",
    "    score_log_loss = log_loss(y_test, max_depth_pred)\n",
    "    accuracy.append(accuracy_score(y_test, y_pred))\n",
    "    test_results.append(score_log_loss)\n",
    "    \n",
    "print(max_depths[test_results.index(min(test_results))])"
   ]
  },
  {
   "cell_type": "code",
   "execution_count": 410,
   "metadata": {},
   "outputs": [
    {
     "name": "stdout",
     "output_type": "stream",
     "text": [
      "150\n"
     ]
    }
   ],
   "source": [
    "# Tuning min_samples_split\n",
    "\n",
    "min_samples_splits = range(50, 250, 50)\n",
    "test_results = []\n",
    "accuracy = []\n",
    "\n",
    "for min_samples_split in min_samples_splits:\n",
    "    clf_min_samples_split = RandomForestClassifier(n_estimators = 25, max_depth = 20, min_samples_split = min_samples_split, max_features = 0.3)\n",
    "    clf_min_samples_split.fit(X_train_ordinal, y_train)\n",
    "    \n",
    "    min_samples_split_pred = clf_min_samples_split.predict_proba(X_test_ordinal)\n",
    "    y_pred = clf_min_samples_split.predict(X_test_ordinal)\n",
    "\n",
    "    score_log_loss = log_loss(y_test, min_samples_split_pred)\n",
    "    accuracy.append(accuracy_score(y_test, y_pred))\n",
    "    test_results.append(score_log_loss)\n",
    "    \n",
    "print(min_samples_splits[test_results.index(min(test_results))])"
   ]
  },
  {
   "cell_type": "code",
   "execution_count": 21,
   "metadata": {},
   "outputs": [
    {
     "name": "stdout",
     "output_type": "stream",
     "text": [
      "10\n"
     ]
    }
   ],
   "source": [
    "# Tuning min_samples_leaf\n",
    "\n",
    "min_samples_leafs = range(10, 125, 25)\n",
    "test_results = []\n",
    "accuracy = []\n",
    "\n",
    "for min_samples_leaf in min_samples_leafs:\n",
    "    clf_min_samples_leaf = RandomForestClassifier(n_estimators = 25, max_depth = 20, min_samples_split = 150, min_samples_leaf = min_samples_leaf, max_features = 0.3)\n",
    "    clf_min_samples_leaf.fit(X_train_ordinal, y_train)\n",
    "    \n",
    "    min_samples_leaf_pred = clf_min_samples_leaf.predict_proba(X_test_ordinal)\n",
    "    y_pred = clf_min_samples_leaf.predict(X_test_ordinal)\n",
    "\n",
    "    score_log_loss = log_loss(y_test, min_samples_leaf_pred)\n",
    "    accuracy.append(accuracy_score(y_test, y_pred))\n",
    "    test_results.append(score_log_loss)\n",
    "    \n",
    "print(min_samples_leafs[test_results.index(min(test_results))])"
   ]
  },
  {
   "cell_type": "code",
   "execution_count": 22,
   "metadata": {},
   "outputs": [
    {
     "data": {
      "text/plain": [
       "[0.40156920842662397,\n",
       " 0.40205598760263483,\n",
       " 0.4028447232282396,\n",
       " 0.40350201698386484,\n",
       " 0.40415422036166215]"
      ]
     },
     "execution_count": 22,
     "metadata": {},
     "output_type": "execute_result"
    }
   ],
   "source": [
    "test_results"
   ]
  },
  {
   "cell_type": "code",
   "execution_count": 23,
   "metadata": {},
   "outputs": [
    {
     "name": "stdout",
     "output_type": "stream",
     "text": [
      "RF feature importance:  [(0.1264, 'site_id'), (0.0889, 'site_domain'), (0.0887, 'C21'), (0.0886, 'C16'), (0.0797, 'C14'), (0.0704, 'device_model'), (0.051, 'site_category'), (0.0495, 'hour'), (0.044, 'C17'), (0.0439, 'app_id'), (0.0374, 'C20'), (0.0353, 'C15'), (0.0335, 'C19'), (0.0303, 'date'), (0.0278, 'app_category'), (0.0243, 'app_domain'), (0.0229, 'C18'), (0.0183, 'banner_pos'), (0.0147, 'device_conn_type'), (0.0135, 'C1'), (0.0106, 'device_type')]\n",
      "Confusion matrix, without normalization\n",
      "[[328536   3142]\n",
      " [ 63439   4883]]\n",
      "Normalized confusion matrix\n",
      "[[0.99 0.01]\n",
      " [0.93 0.07]]\n"
     ]
    },
    {
     "data": {
      "image/png": "[encoded data removed]",
      "text/plain": [
       "<Figure size 432x288 with 2 Axes>"
      ]
     },
     "metadata": {
      "needs_background": "light"
     },
     "output_type": "display_data"
    },
    {
     "data": {
      "image/png": "[encoded data removed]",
      "text/plain": [
       "<Figure size 432x288 with 2 Axes>"
      ]
     },
     "metadata": {
      "needs_background": "light"
     },
     "output_type": "display_data"
    },
    {
     "name": "stdout",
     "output_type": "stream",
     "text": [
      "Accuracy (out-of-sample): 0.83\n",
      "F1 score (out-of-sample):  0.517954579139031\n",
      "Kappa score (out-of-sample):  0.0954354245134521\n",
      "Classification report:                precision    recall  f1-score   support\n",
      "\n",
      "           0       0.84      0.99      0.91    331678\n",
      "           1       0.61      0.07      0.13     68322\n",
      "\n",
      "   micro avg       0.83      0.83      0.83    400000\n",
      "   macro avg       0.72      0.53      0.52    400000\n",
      "weighted avg       0.80      0.83      0.77    400000\n",
      "\n",
      "AUC:  0.5309986735394325\n",
      "Log loss:  0.401495990105962\n"
     ]
    }
   ],
   "source": [
    "from sklearn.ensemble import RandomForestClassifier\n",
    "import itertools\n",
    "import sklearn\n",
    "from sklearn.metrics import confusion_matrix\n",
    "\n",
    "randomForest = RandomForestClassifier(max_depth = 20, n_estimators = 25, min_samples_split = 150, min_samples_leaf = 10, max_features=0.3)\n",
    "\n",
    "np.random.seed(613)\n",
    "randomForest.fit(X_train_ordinal, y_train)\n",
    "\n",
    "# Feature Importance\n",
    "names = sample.columns[1:]\n",
    "print('RF feature importance: ', sorted(zip(map(lambda x: round(x, 4), randomForest.feature_importances_), names), \n",
    "             reverse=True))\n",
    "\n",
    "y_pred = randomForest.predict(X_test_ordinal)\n",
    "y_pred_prob = randomForest.predict_proba(X_test_ordinal)\n",
    "\n",
    "cnf_matrix = confusion_matrix(y_test, y_pred)\n",
    "np.set_printoptions(precision=2)\n",
    "\n",
    "# Plot non-normalized confusion matrix\n",
    "plt.figure()\n",
    "plot_confusion_matrix(cnf_matrix, classes=['0', '1'],\n",
    "                      title='Confusion matrix, without normalization')\n",
    "\n",
    "# Plot normalized confusion matrix\n",
    "plt.figure()\n",
    "plot_confusion_matrix(cnf_matrix, classes=['0', '1'], normalize=True,\n",
    "                      title='Normalized confusion matrix')\n",
    "\n",
    "plt.show()\n",
    "\n",
    "# Accuracy\n",
    "print('Accuracy (out-of-sample): %.2f' % accuracy_score(y_test, y_pred))\n",
    "\n",
    "# F1 score\n",
    "print('F1 score (out-of-sample): ', f1_score(y_test, y_pred, average='macro'))\n",
    "\n",
    "# Kappa score\n",
    "print('Kappa score (out-of-sample): ', cohen_kappa_score(y_test, y_pred))\n",
    "\n",
    "# Build a text report showing the main classification metrics (out-of-sample performance)\n",
    "print('Classification report: ',classification_report(y_test, y_pred, target_names=['0', '1']))\n",
    "\n",
    "from sklearn.metrics import roc_curve, auc\n",
    "false_positive_rate, true_positive_rate, thresholds = roc_curve(y_test, y_pred)\n",
    "roc_auc = auc(false_positive_rate, true_positive_rate)\n",
    "print('AUC: ', roc_auc)\n",
    "\n",
    "print('Log loss: ', log_loss(y_test, y_pred_prob))"
   ]
  }
 ],
 "metadata": {
  "kernelspec": {
   "display_name": "Python 3",
   "language": "python",
   "name": "python3"
  },
  "language_info": {
   "codemirror_mode": {
    "name": "ipython",
    "version": 3
   },
   "file_extension": ".py",
   "mimetype": "text/x-python",
   "name": "python",
   "nbconvert_exporter": "python",
   "pygments_lexer": "ipython3",
   "version": "3.7.1"
  }
 },
 "nbformat": 4,
 "nbformat_minor": 2
}
